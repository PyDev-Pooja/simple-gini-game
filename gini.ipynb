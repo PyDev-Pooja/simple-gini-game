import random
import time
print ("WELCOME TO GINI'S WORLD")
print ("i'm here to help you, I can give predictions to your wish")
time.sleep(3)
name=input('What is your name?')
print('Okay! Lets play. Keep a wish in your mind')

def getAnswer(answerNumber):
  if answerNumber == 1:
     return 'It is certain'
  elif answerNumber == 2:
     return 'It is decidedly so'
  elif answerNumber == 3:
     return 'Yes'
  elif answerNumber == 4:
     return 'Reply hazy try again'
  elif answerNumber == 5:
     return 'Ask again later'
  elif answerNumber == 6:
     return 'Concentrate and ask again'
  elif answerNumber == 7:
     return 'My reply is no'
  elif answerNumber == 8:
     return 'Outlook not so good'
  elif answerNumber == 9:
     return 'Very doubtful'
    
r = random.randint(1, 9)
fortune = getAnswer(r)
print('your magic number is',r)
time.sleep(5)
print('Gini says....')
time.sleep(5)
print('Hey!',name,',',fortune)
